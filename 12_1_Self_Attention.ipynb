{
  "nbformat": 4,
  "nbformat_minor": 0,
  "metadata": {
    "colab": {
      "provenance": [],
      "include_colab_link": true
    },
    "kernelspec": {
      "name": "python3",
      "display_name": "Python 3"
    },
    "language_info": {
      "name": "python"
    }
  },
  "cells": [
    {
      "cell_type": "markdown",
      "metadata": {
        "id": "view-in-github",
        "colab_type": "text"
      },
      "source": [
        "<a href=\"https://colab.research.google.com/github/jesus23lk/Python-Notebooks/blob/main/12_1_Self_Attention.ipynb\" target=\"_parent\"><img src=\"https://colab.research.google.com/assets/colab-badge.svg\" alt=\"Open In Colab\"/></a>"
      ]
    },
    {
      "cell_type": "markdown",
      "source": [
        "# **Notebook 12.1: Self Attention**\n",
        "\n",
        "This notebook builds a self-attention mechanism from scratch, as discussed in section 12.2 of the book.\n",
        "\n",
        "Work through the cells below, running each cell in turn. In various places you will see the words \"TO DO\". Follow the instructions at these places and make predictions about what is going to happen or write code to complete the functions.\n",
        "\n",
        "Contact me at udlbookmail@gmail.com if you find any mistakes or have any suggestions.\n",
        "\n"
      ],
      "metadata": {
        "id": "t9vk9Elugvmi"
      }
    },
    {
      "cell_type": "code",
      "source": [
        "import numpy as np\n",
        "import matplotlib.pyplot as plt"
      ],
      "metadata": {
        "id": "OLComQyvCIJ7"
      },
      "execution_count": null,
      "outputs": []
    },
    {
      "cell_type": "markdown",
      "source": [
        "The self-attention mechanism maps $N$ inputs $\\mathbf{x}_{n}\\in\\mathbb{R}^{D}$ and returns $N$ outputs $\\mathbf{x}'_{n}\\in \\mathbb{R}^{D}$.  \n",
        "\n"
      ],
      "metadata": {
        "id": "9OJkkoNqCVK2"
      }
    },
    {
      "cell_type": "code",
      "source": [
        "# Set seed so we get the same random numbers\n",
        "np.random.seed(3)\n",
        "# Number of inputs\n",
        "N = 3\n",
        "# Number of dimensions of each input\n",
        "D = 4\n",
        "# Create an empty list\n",
        "all_x = []\n",
        "# Create elements x_n and append to list\n",
        "for n in range(N):\n",
        "  all_x.append(np.random.normal(size=(D,1)))\n",
        "# Print out the list\n",
        "print(all_x)\n"
      ],
      "metadata": {
        "id": "oAygJwLiCSri"
      },
      "execution_count": null,
      "outputs": []
    },
    {
      "cell_type": "markdown",
      "source": [
        "We'll also need the weights and biases for the keys, queries, and values (equations 12.2 and 12.4)"
      ],
      "metadata": {
        "id": "W2iHFbtKMaDp"
      }
    },
    {
      "cell_type": "code",
      "source": [
        "# Set seed so we get the same random numbers\n",
        "np.random.seed(0)\n",
        "\n",
        "# Choose random values for the parameters\n",
        "omega_q = np.random.normal(size=(D,D))\n",
        "omega_k = np.random.normal(size=(D,D))\n",
        "omega_v = np.random.normal(size=(D,D))\n",
        "beta_q = np.random.normal(size=(D,1))\n",
        "beta_k = np.random.normal(size=(D,1))\n",
        "beta_v = np.random.normal(size=(D,1))"
      ],
      "metadata": {
        "id": "79TSK7oLMobe"
      },
      "execution_count": null,
      "outputs": []
    },
    {
      "cell_type": "markdown",
      "source": [
        "Now let's compute the queries, keys, and values for each input"
      ],
      "metadata": {
        "id": "VxaKQtP3Ng6R"
      }
    },
    {
      "cell_type": "code",
      "source": [
        "# Make three lists to store queries, keys, and values\n",
        "all_queries = []\n",
        "all_keys = []\n",
        "all_values = []\n",
        "\n",
        "# For every input\n",
        "for x in all_x:\n",
        "    # TODO -- compute the keys, queries and values.\n",
        "    query = np.dot(omega_q, x) + beta_q\n",
        "    key = np.dot(omega_k, x) + beta_k\n",
        "    value = np.dot(omega_v, x) + beta_v\n",
        "\n",
        "    all_queries.append(query)\n",
        "    all_keys.append(key)\n",
        "    all_values.append(value)\n"
      ],
      "metadata": {
        "id": "TwDK2tfdNmw9"
      },
      "execution_count": null,
      "outputs": []
    },
    {
      "cell_type": "markdown",
      "source": [
        "We'll need a softmax function (equation 12.5) -- here, it will take a list of arbitrary numbers and return a list where the elements are non-negative and sum to one\n"
      ],
      "metadata": {
        "id": "Se7DK6PGPSUk"
      }
    },
    {
      "cell_type": "code",
      "source": [
        "def softmax(items_in):\n",
        "    # Compute the exponentials and normalize by the sum of exponentials\n",
        "    exps = np.exp(items_in - np.max(items_in))  # for numerical stability\n",
        "    items_out = exps / np.sum(exps)\n",
        "\n",
        "    return items_out\n"
      ],
      "metadata": {
        "id": "u93LIcE5PoiM"
      },
      "execution_count": null,
      "outputs": []
    },
    {
      "cell_type": "markdown",
      "source": [
        "Now compute the self attention values:"
      ],
      "metadata": {
        "id": "8aJVhbKDW7lm"
      }
    },
    {
      "cell_type": "code",
      "source": [
        "# Create empty list for output\n",
        "all_x_prime = []\n",
        "\n",
        "# For each output\n",
        "for n in range(N):\n",
        "    # Create list for dot products of query N with all keys\n",
        "    all_km_qn = []\n",
        "    # Compute the dot products\n",
        "    for key in all_keys:\n",
        "        # Compute the dot product between the query and each key\n",
        "        dot_product = np.dot(all_queries[n].T, key)\n",
        "\n",
        "        # Store dot product\n",
        "        all_km_qn.append(dot_product)\n",
        "\n",
        "    # Compute attention using softmax\n",
        "    attention = softmax(all_km_qn)\n",
        "    print(\"Attentions for output \", n)\n",
        "    print(attention)\n",
        "\n",
        "    # Compute a weighted sum of all of the values according to the attention\n",
        "    x_prime = np.sum([attention[i] * all_values[i] for i in range(len(all_values))], axis=0)\n",
        "\n",
        "    all_x_prime.append(x_prime)\n"
      ],
      "metadata": {
        "id": "yimz-5nCW6vQ"
      },
      "execution_count": null,
      "outputs": []
    },
    {
      "cell_type": "markdown",
      "source": [
        "Now let's compute the same thing, but using matrix calculations.  We'll store the $N$ inputs $\\mathbf{x}_{n}\\in\\mathbb{R}^{D}$ in the columns of a $D\\times N$ matrix, using equations 12.6 and 12.7/8.\n",
        "\n",
        "Note:  The book uses column vectors (for compatibility with the rest of the text), but in the wider literature it is more normal to store the inputs in the rows of a matrix;  in this case, the computation is the same, but all the matrices are transposed and the operations proceed in the reverse order."
      ],
      "metadata": {
        "id": "PJ2vCQ_7C38K"
      }
    },
    {
      "cell_type": "code",
      "source": [
        "# Define softmax operation that works independently on each column\n",
        "def softmax_cols(data_in):\n",
        "  # Exponentiate all of the values\n",
        "  exp_values = np.exp(data_in) ;\n",
        "  # Sum over columns\n",
        "  denom = np.sum(exp_values, axis = 0);\n",
        "  # Replicate denominator to N rows\n",
        "  denom = np.matmul(np.ones((data_in.shape[0],1)), denom[np.newaxis,:])\n",
        "  # Compute softmax\n",
        "  softmax = exp_values / denom\n",
        "  # return the answer\n",
        "  return softmax"
      ],
      "metadata": {
        "id": "obaQBdUAMXXv"
      },
      "execution_count": null,
      "outputs": []
    },
    {
      "cell_type": "code",
      "source": [
        "def self_attention(X, omega_v, omega_q, omega_k, beta_v, beta_q, beta_k):\n",
        "    # Compute queries, keys, and values\n",
        "    queries = np.dot(X, omega_q.T) + beta_q\n",
        "    keys = np.dot(X, omega_k.T) + beta_k\n",
        "    values = np.dot(X, omega_v.T) + beta_v\n",
        "\n",
        "    # Compute dot products and apply softmax to calculate attentions\n",
        "    dot_products = np.dot(queries, keys.T)\n",
        "    attentions = softmax(dot_products)\n",
        "\n",
        "    # Weight values by attentions\n",
        "    X_prime = np.dot(attentions, values)\n",
        "\n",
        "    return X_prime\n"
      ],
      "metadata": {
        "id": "gb2WvQ3SiH8r"
      },
      "execution_count": null,
      "outputs": []
    },
    {
      "cell_type": "code",
      "source": [
        "# Copy data into matrix\n",
        "X = np.zeros((D, N))\n",
        "X[:,0] = np.squeeze(all_x[0])\n",
        "X[:,1] = np.squeeze(all_x[1])\n",
        "X[:,2] = np.squeeze(all_x[2])\n",
        "\n",
        "# Run the self attention mechanism\n",
        "X_prime = self_attention(X,omega_v, omega_q, omega_k, beta_v, beta_q, beta_k)\n",
        "\n",
        "# Print out the results\n",
        "print(X_prime)"
      ],
      "metadata": {
        "id": "MUOJbgJskUpl"
      },
      "execution_count": null,
      "outputs": []
    },
    {
      "cell_type": "markdown",
      "source": [
        "If you did this correctly, the values should be the same as above.\n",
        "\n",
        "TODO:  \n",
        "\n",
        "Print out the attention matrix\n",
        "You will see that the values are quite extreme (one is very close to one and the others are very close to zero.  Now we'll fix this problem by using scaled dot-product attention."
      ],
      "metadata": {
        "id": "as_lRKQFpvz0"
      }
    },
    {
      "cell_type": "code",
      "source": [
        "def scaled_dot_product_self_attention(X, omega_v, omega_q, omega_k, beta_v, beta_q, beta_k):\n",
        "    # Compute queries, keys, and values\n",
        "    queries = np.dot(X, omega_q.T) + beta_q\n",
        "    keys = np.dot(X, omega_k.T) + beta_k\n",
        "    values = np.dot(X, omega_v.T) + beta_v\n",
        "\n",
        "    # Compute scaled dot products (divide by sqrt of key dimension size)\n",
        "    d_k = keys.shape[1]  # dimension of the keys\n",
        "    dot_products = np.dot(queries, keys.T) / np.sqrt(d_k)\n",
        "\n",
        "    # Apply softmax to calculate attentions\n",
        "    attentions = softmax(dot_products)\n",
        "\n",
        "    # Weight values by attentions\n",
        "    X_prime = np.dot(attentions, values)\n",
        "\n",
        "    return X_prime\n"
      ],
      "metadata": {
        "id": "kLU7PUnnqvIh"
      },
      "execution_count": null,
      "outputs": []
    },
    {
      "cell_type": "code",
      "source": [
        "# Run the self attention mechanism\n",
        "X_prime = scaled_dot_product_self_attention(X,omega_v, omega_q, omega_k, beta_v, beta_q, beta_k)\n",
        "\n",
        "# Print out the results\n",
        "print(X_prime)"
      ],
      "metadata": {
        "id": "n18e3XNzmVgL"
      },
      "execution_count": null,
      "outputs": []
    },
    {
      "cell_type": "markdown",
      "source": [
        "TODO -- Investigate whether the self-attention mechanism is covariant with respect to permutation.\n",
        "If it is, when we permute the columns of the input matrix $\\mathbf{X}$, the columns of the output matrix $\\mathbf{X}'$ will also be permuted.\n"
      ],
      "metadata": {
        "id": "QDEkIrcgrql-"
      }
    }
  ]
}